{
 "cells": [
  {
   "cell_type": "code",
   "execution_count": 2,
   "id": "69718068-eb8a-42e4-ac00-7158f04a4561",
   "metadata": {},
   "outputs": [],
   "source": [
    "import torch\n",
    "import torch.nn as nn\n",
    "from conformer import Conformer\n",
    "from components import signalpreprocess, cdecoder\n",
    "from tqdm import tqdm\n",
    "\n",
    "\n",
    "sequence_length, dim = 50, 100\n",
    "cuda = torch.cuda.is_available()  \n",
    "device = torch.device('cuda:0' if cuda else 'cpu')\n",
    "\n",
    "class ConformerModel(nn.Module):\n",
    "    def __init__(self):\n",
    "        nn.Module.__init__(self)\n",
    "        self.require_pooling = False\n",
    "        self.signalpreprocess = signalpreprocess.SignalPreprocess(blocks=1)\n",
    "        self.encoder = Conformer(\n",
    "                    input_dim=dim, \n",
    "                    encoder_dim=32, \n",
    "                    num_encoder_layers=4,\n",
    "                    need_fc=False)\n",
    "        self.decoder = Decoder()\n",
    "        self.componentsnorm = ComponentsNormalization()\n",
    "        \n",
    "    def forward(self, x):\n",
    "        if self.require_pooling:\n",
    "            x = self.signalpreprocess(x).to(device)\n",
    "        else:\n",
    "            x = x.view(-1, 1, 50, 100).to(device)\n",
    "        x = self.encoder(x)\n",
    "        x = self.decoder(x)\n",
    "        x = self.componentsnorm(x)\n",
    "        return x\n",
    "    \n",
    "    def encode(self, x):\n",
    "        if self.require_pooling:\n",
    "            x = self.signalpreprocess(x).to(device)\n",
    "        else:\n",
    "            x = x.view(-1, 1, 50, 100).to(device)     \n",
    "        x = self.encoder(x)\n",
    "        return x\n",
    "    \n",
    "    def last_state(self, x):\n",
    "        x = self.signalpreprocess(x).to(device)\n",
    "        x = self.encoder(x)\n",
    "        x = self.decoder(x)\n",
    "        return x\n",
    "        \n",
    "class Decoder(nn.Module):\n",
    "    def __init__(self):\n",
    "        nn.Module.__init__(self)\n",
    "        self.decoder = cdecoder.cDecoder()\n",
    "        self.linear1 = nn.Linear(in_features=320, out_features=8)\n",
    "\n",
    "        \n",
    "    def forward(self, x):\n",
    "        x = self.decoder(x)\n",
    "        x = x.view(-1, 320)\n",
    "        x = self.linear1(x)\n",
    "        x = torch.sigmoid(x)\n",
    "        return x\n",
    "    \n",
    "class ComponentsNormalization(nn.Module):\n",
    "    def __init__(self):\n",
    "        nn.Module.__init__(self)\n",
    "        \n",
    "    def forward(self, x):\n",
    "        res = []\n",
    "        _sum = 1 / (torch.sum(x, -1) + 1e-5)\n",
    "        for i in range(x.shape[0]):\n",
    "            res.append(x[i] * _sum[i])\n",
    "        return torch.vstack(res)\n",
    "        "
   ]
  },
  {
   "cell_type": "code",
   "execution_count": 3,
   "id": "c57de7c3-b304-403a-ad59-564c083e5c32",
   "metadata": {},
   "outputs": [
    {
     "name": "stdout",
     "output_type": "stream",
     "text": [
      "====================================================================================================\n",
      "Layer (type:depth-idx)                                                      Param #\n",
      "====================================================================================================\n",
      "ConformerModel                                                              --\n",
      "├─SignalPreprocess: 1-1                                                     --\n",
      "│    └─ModuleList: 2-1                                                      --\n",
      "│    │    └─SignalPooling: 3-1                                              --\n",
      "├─Conformer: 1-2                                                            --\n",
      "│    └─ConformerEncoder: 2-2                                                --\n",
      "│    │    └─Conv2dSubampling: 3-2                                           9,568\n",
      "│    │    └─Sequential: 3-3                                                 24,608\n",
      "│    │    └─ModuleList: 3-4                                                 106,072\n",
      "│    └─Linear: 2-3                                                          --\n",
      "│    │    └─Linear: 3-5                                                     2,816\n",
      "├─Decoder: 1-3                                                              --\n",
      "│    └─cDecoder: 2-4                                                        --\n",
      "│    │    └─Sequential: 3-6                                                 9,912\n",
      "│    └─Linear: 2-5                                                          2,568\n",
      "├─ComponentsNormalization: 1-4                                              --\n",
      "====================================================================================================\n",
      "Total params: 155,544\n",
      "Trainable params: 155,544\n",
      "Non-trainable params: 0\n",
      "====================================================================================================\n"
     ]
    },
    {
     "data": {
      "text/plain": [
       "155544"
      ]
     },
     "execution_count": 3,
     "metadata": {},
     "output_type": "execute_result"
    }
   ],
   "source": [
    "from torchinfo import summary\n",
    "model = ConformerModel().to(device)\n",
    "print(summary(model))\n",
    "sum([param.nelement() for param in model.parameters()])"
   ]
  },
  {
   "cell_type": "code",
   "execution_count": 4,
   "id": "775d1dae-2ff7-4e23-8e87-f35694719048",
   "metadata": {},
   "outputs": [
    {
     "data": {
      "text/plain": [
       "torch.Size([1, 8])"
      ]
     },
     "execution_count": 4,
     "metadata": {},
     "output_type": "execute_result"
    }
   ],
   "source": [
    "x = torch.rand(1, 5000).to(device)\n",
    "model(x).shape"
   ]
  },
  {
   "cell_type": "code",
   "execution_count": null,
   "id": "b61ba919-57b9-4970-affc-c69ed9819394",
   "metadata": {},
   "outputs": [],
   "source": []
  }
 ],
 "metadata": {
  "kernelspec": {
   "display_name": "Python 3 (ipykernel)",
   "language": "python",
   "name": "python3"
  },
  "language_info": {
   "codemirror_mode": {
    "name": "ipython",
    "version": 3
   },
   "file_extension": ".py",
   "mimetype": "text/x-python",
   "name": "python",
   "nbconvert_exporter": "python",
   "pygments_lexer": "ipython3",
   "version": "3.9.13"
  }
 },
 "nbformat": 4,
 "nbformat_minor": 5
}
